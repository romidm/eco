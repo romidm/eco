{
 "cells": [
  {
   "cell_type": "code",
   "execution_count": 1,
   "metadata": {},
   "outputs": [
    {
     "data": {
      "text/plain": [
       "['C:\\\\Users\\\\Романов_Д_Ю\\\\PycharmProjects\\\\test\\\\workbooks',\n",
       " 'c:\\\\program files\\\\python38\\\\python38.zip',\n",
       " 'c:\\\\program files\\\\python38\\\\DLLs',\n",
       " 'c:\\\\program files\\\\python38\\\\lib',\n",
       " 'c:\\\\program files\\\\python38',\n",
       " '',\n",
       " 'c:\\\\program files\\\\python38\\\\lib\\\\site-packages',\n",
       " 'c:\\\\program files\\\\python38\\\\lib\\\\site-packages\\\\win32',\n",
       " 'c:\\\\program files\\\\python38\\\\lib\\\\site-packages\\\\win32\\\\lib',\n",
       " 'c:\\\\program files\\\\python38\\\\lib\\\\site-packages\\\\Pythonwin',\n",
       " 'c:\\\\program files\\\\python38\\\\lib\\\\site-packages\\\\IPython\\\\extensions',\n",
       " 'C:\\\\Users\\\\Романов_Д_Ю\\\\.ipython',\n",
       " 'C:\\\\Users\\\\Романов_Д_Ю\\\\PycharmProjects\\\\test']"
      ]
     },
     "execution_count": 1,
     "metadata": {},
     "output_type": "execute_result"
    }
   ],
   "source": [
    "import sys\n",
    "\n",
    "module_path = 'C:\\\\Users\\\\Романов_Д_Ю\\\\PycharmProjects\\\\test'\n",
    "if module_path not in sys.path:\n",
    "    sys.path.append(module_path)\n",
    "\n",
    "import main\n",
    "\n",
    "sys.path"
   ]
  },
  {
   "cell_type": "code",
   "execution_count": null,
   "metadata": {},
   "outputs": [],
   "source": []
  }
 ],
 "metadata": {
  "kernelspec": {
   "display_name": "Python 3",
   "language": "python",
   "name": "python3"
  },
  "language_info": {
   "codemirror_mode": {
    "name": "ipython",
    "version": 3
   },
   "file_extension": ".py",
   "mimetype": "text/x-python",
   "name": "python",
   "nbconvert_exporter": "python",
   "pygments_lexer": "ipython3",
   "version": "3.8.2"
  }
 },
 "nbformat": 4,
 "nbformat_minor": 4
}
