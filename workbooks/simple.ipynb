{
 "cells": [
  {
   "cell_type": "code",
   "execution_count": 7,
   "metadata": {},
   "outputs": [
    {
     "data": {
      "text/plain": [
       "['C:\\\\Users\\\\Романов_Д_Ю\\\\PycharmProjects\\\\test\\\\workbooks',\n",
       " 'c:\\\\program files\\\\python38\\\\python38.zip',\n",
       " 'c:\\\\program files\\\\python38\\\\DLLs',\n",
       " 'c:\\\\program files\\\\python38\\\\lib',\n",
       " 'c:\\\\program files\\\\python38',\n",
       " '',\n",
       " 'c:\\\\program files\\\\python38\\\\lib\\\\site-packages',\n",
       " 'c:\\\\program files\\\\python38\\\\lib\\\\site-packages\\\\win32',\n",
       " 'c:\\\\program files\\\\python38\\\\lib\\\\site-packages\\\\win32\\\\lib',\n",
       " 'c:\\\\program files\\\\python38\\\\lib\\\\site-packages\\\\Pythonwin',\n",
       " 'c:\\\\program files\\\\python38\\\\lib\\\\site-packages\\\\IPython\\\\extensions',\n",
       " 'C:\\\\Users\\\\Романов_Д_Ю\\\\.ipython',\n",
       " 'C:\\\\Users\\\\Романов_Д_Ю\\\\PycharmProjects\\\\test']"
      ]
     },
     "execution_count": 7,
     "metadata": {},
     "output_type": "execute_result"
    }
   ],
   "source": [
    "import sys\n",
    "\n",
    "module_path = 'C:\\\\Users\\\\Романов_Д_Ю\\\\PycharmProjects\\\\test'\n",
    "if module_path not in sys.path:\n",
    "    sys.path.append(module_path)\n",
    "\n",
    "import main\n",
    "\n",
    "sys.path"
   ]
  },
  {
   "cell_type": "code",
   "execution_count": 8,
   "metadata": {},
   "outputs": [],
   "source": [
    "eco = main.Eco()\n",
    "eco.init(number_agents=100, money=10000, produce_per_turn=2)\n",
    "eco.make_steps(3)"
   ]
  },
  {
   "cell_type": "code",
   "execution_count": 16,
   "metadata": {},
   "outputs": [
    {
     "data": {
      "text/plain": [
       "<AxesSubplot:xlabel='step'>"
      ]
     },
     "execution_count": 16,
     "metadata": {},
     "output_type": "execute_result"
    },
    {
     "data": {
      "image/png": "[encoded data removed]",
      "text/plain": [
       "<Figure size 432x288 with 1 Axes>"
      ]
     },
     "metadata": {
      "needs_background": "light"
     },
     "output_type": "display_data"
    }
   ],
   "source": [
    "import pandas as pd\n",
    "df = pd.DataFrame(eco.deals_history)\n",
    "agg_df = df.groupby('step').agg({'price': 'mean', 'money': 'sum', 'qty': 'sum'})\n",
    "agg_df['money'].plot()"
   ]
  },
  {
   "cell_type": "code",
   "execution_count": null,
   "metadata": {},
   "outputs": [],
   "source": []
  }
 ],
 "metadata": {
  "kernelspec": {
   "display_name": "Python 3",
   "language": "python",
   "name": "python3"
  },
  "language_info": {
   "codemirror_mode": {
    "name": "ipython",
    "version": 3
   },
   "file_extension": ".py",
   "mimetype": "text/x-python",
   "name": "python",
   "nbconvert_exporter": "python",
   "pygments_lexer": "ipython3",
   "version": "3.8.2"
  }
 },
 "nbformat": 4,
 "nbformat_minor": 4
}
