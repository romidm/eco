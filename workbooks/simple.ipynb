{
 "cells": [
  {
   "cell_type": "code",
   "execution_count": 7,
   "metadata": {},
   "outputs": [
    {
     "data": {
      "text/plain": [
       "['C:\\\\Users\\\\Романов_Д_Ю\\\\PycharmProjects\\\\test\\\\workbooks',\n",
       " 'c:\\\\program files\\\\python38\\\\python38.zip',\n",
       " 'c:\\\\program files\\\\python38\\\\DLLs',\n",
       " 'c:\\\\program files\\\\python38\\\\lib',\n",
       " 'c:\\\\program files\\\\python38',\n",
       " '',\n",
       " 'c:\\\\program files\\\\python38\\\\lib\\\\site-packages',\n",
       " 'c:\\\\program files\\\\python38\\\\lib\\\\site-packages\\\\win32',\n",
       " 'c:\\\\program files\\\\python38\\\\lib\\\\site-packages\\\\win32\\\\lib',\n",
       " 'c:\\\\program files\\\\python38\\\\lib\\\\site-packages\\\\Pythonwin',\n",
       " 'c:\\\\program files\\\\python38\\\\lib\\\\site-packages\\\\IPython\\\\extensions',\n",
       " 'C:\\\\Users\\\\Романов_Д_Ю\\\\.ipython',\n",
       " 'C:\\\\Users\\\\Романов_Д_Ю\\\\PycharmProjects\\\\test']"
      ]
     },
     "execution_count": 7,
     "metadata": {},
     "output_type": "execute_result"
    }
   ],
   "source": [
    "import sys\n",
    "\n",
    "module_path = 'C:\\\\Users\\\\Романов_Д_Ю\\\\PycharmProjects\\\\test'\n",
    "if module_path not in sys.path:\n",
    "    sys.path.append(module_path)\n",
    "\n",
    "import main\n",
    "\n",
    "sys.path"
   ]
  },
  {
   "cell_type": "code",
   "execution_count": 8,
   "metadata": {},
   "outputs": [],
   "source": [
    "eco = main.Eco()\n",
    "eco.init(number_agents=100, money=10000, produce_per_turn=2)\n",
    "eco.make_steps(3)"
   ]
  },
  {
   "cell_type": "code",
   "execution_count": 10,
   "metadata": {},
   "outputs": [
    {
     "data": {
      "text/html": [
       "<div>\n",
       "<style scoped>\n",
       "    .dataframe tbody tr th:only-of-type {\n",
       "        vertical-align: middle;\n",
       "    }\n",
       "\n",
       "    .dataframe tbody tr th {\n",
       "        vertical-align: top;\n",
       "    }\n",
       "\n",
       "    .dataframe thead th {\n",
       "        text-align: right;\n",
       "    }\n",
       "</style>\n",
       "<table border=\"1\" class=\"dataframe\">\n",
       "  <thead>\n",
       "    <tr style=\"text-align: right;\">\n",
       "      <th></th>\n",
       "      <th>price</th>\n",
       "      <th>money</th>\n",
       "      <th>qty</th>\n",
       "    </tr>\n",
       "    <tr>\n",
       "      <th>step</th>\n",
       "      <th></th>\n",
       "      <th></th>\n",
       "      <th></th>\n",
       "    </tr>\n",
       "  </thead>\n",
       "  <tbody>\n",
       "    <tr>\n",
       "      <th>1</th>\n",
       "      <td>50</td>\n",
       "      <td>10000</td>\n",
       "      <td>200</td>\n",
       "    </tr>\n",
       "    <tr>\n",
       "      <th>2</th>\n",
       "      <td>50</td>\n",
       "      <td>10000</td>\n",
       "      <td>200</td>\n",
       "    </tr>\n",
       "    <tr>\n",
       "      <th>3</th>\n",
       "      <td>50</td>\n",
       "      <td>10000</td>\n",
       "      <td>200</td>\n",
       "    </tr>\n",
       "  </tbody>\n",
       "</table>\n",
       "</div>"
      ],
      "text/plain": [
       "      price  money  qty\n",
       "step                   \n",
       "1        50  10000  200\n",
       "2        50  10000  200\n",
       "3        50  10000  200"
      ]
     },
     "execution_count": 10,
     "metadata": {},
     "output_type": "execute_result"
    }
   ],
   "source": [
    "import pandas as pd\n",
    "df = pd.DataFrame(eco.deals_history)\n",
    "df.groupby('step').agg({'price': 'mean', 'money': 'sum', 'qty': 'sum'})"
   ]
  }
 ],
 "metadata": {
  "kernelspec": {
   "display_name": "Python 3",
   "language": "python",
   "name": "python3"
  },
  "language_info": {
   "codemirror_mode": {
    "name": "ipython",
    "version": 3
   },
   "file_extension": ".py",
   "mimetype": "text/x-python",
   "name": "python",
   "nbconvert_exporter": "python",
   "pygments_lexer": "ipython3",
   "version": "3.8.2"
  }
 },
 "nbformat": 4,
 "nbformat_minor": 4
}
